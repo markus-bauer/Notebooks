{
 "cells": [
  {
   "cell_type": "markdown",
   "metadata": {},
   "source": [
    "# Atomic-Force-Microscopy (AFM) - Interactive plot  with Matplotlib\n",
    "\n",
    "## Description\n",
    "Plot AFM-data as a 2D image, 3D surface and as a profile along a straight line. The line profile can be created interactively with ipython-widgtes.\n",
    "\n",
    "<img src=\"./AFM.jpg\">\n",
    "\n",
    "## TODO\n",
    "\n",
    "X- and Y-Coordiantes are in data-coordinates \n",
    "\n",
    "## Conclusion\n",
    "This is a proof of concept. It works, but the matplotlib 3D-backend might be too slow.\n"
   ]
  },
  {
   "cell_type": "markdown",
   "metadata": {},
   "source": [
    "## 0. Imports"
   ]
  },
  {
   "cell_type": "code",
   "execution_count": 11,
   "metadata": {
    "collapsed": true
   },
   "outputs": [],
   "source": [
    "%matplotlib tk\n",
    "import numpy as np\n",
    "from matplotlib import cm\n",
    "import matplotlib.pyplot as plt\n",
    "from mpl_toolkits.mplot3d import Axes3D\n",
    "import matplotlib.gridspec as gridspec"
   ]
  },
  {
   "cell_type": "markdown",
   "metadata": {},
   "source": [
    "## 1. Load Data\n",
    "\n",
    "- The example-data was cleaned up in Gwyddion and exported as an ASCII-file with heder\n",
    "- It might be possible to load the data directly, but you'll want to clean it up with gwyddion anyway."
   ]
  },
  {
   "cell_type": "code",
   "execution_count": 12,
   "metadata": {
    "collapsed": false
   },
   "outputs": [
    {
     "name": "stdout",
     "output_type": "stream",
     "text": [
      "   Header    \n",
      "-------------\n",
      "# Kanal: Height\n",
      "\n",
      "# Breite: 1.000 µm\n",
      "\n",
      "# Höhe: 1.000 µm\n",
      "\n",
      "# Value units: m\n",
      "\n",
      "   data-shape   \n",
      "----------------\n",
      "(512, 512)\n"
     ]
    }
   ],
   "source": [
    "filepath = \"./04181616.txt\"\n",
    "\n",
    "#--- numpy import works directly with ascii-files ---\n",
    "data = np.loadtxt(filepath)\n",
    "\n",
    "#--- this is only for the header ---\n",
    "headerlines = []\n",
    "with open(filepath, \"r\") as f:\n",
    "    lines = f.readlines()\n",
    "    \n",
    "for line in lines:\n",
    "    if line.startswith(\"#\"):\n",
    "        headerlines.append(line)\n",
    "\n",
    "#--- print results\n",
    "print(\"   Header    \")\n",
    "print(\"-------------\")\n",
    "for h in headerlines:\n",
    "    print(h)\n",
    "\n",
    "print(\"   data-shape   \")\n",
    "print(\"----------------\")\n",
    "print(np.shape(data))"
   ]
  },
  {
   "cell_type": "code",
   "execution_count": 13,
   "metadata": {
    "collapsed": false
   },
   "outputs": [],
   "source": [
    "def get_line(x1, x2, y1, y2):\n",
    "    \"\"\" \n",
    "    Find integers lying on a line. Used to find valid indices in a 2d data-array that intersect\n",
    "    with the line\n",
    "    \n",
    "    Code from:\n",
    "    http://stackoverflow.com/questions/25837544/get-all-points-of-a-straight-line-in-python\n",
    "    \n",
    "    x1,x2,y1,y2 : coordinates of start- and endpoint of the line\n",
    "    \"\"\"\n",
    "    points = []\n",
    "    issteep = abs(y2-y1) > abs(x2-x1)\n",
    "    if issteep:\n",
    "        x1, y1 = y1, x1\n",
    "        x2, y2 = y2, x2\n",
    "    rev = False\n",
    "    if x1 > x2:\n",
    "        x1, x2 = x2, x1\n",
    "        y1, y2 = y2, y1\n",
    "        rev = True\n",
    "    deltax = x2 - x1\n",
    "    deltay = abs(y2-y1)\n",
    "    error = int(deltax / 2)\n",
    "    y = y1\n",
    "    ystep = None\n",
    "    if y1 < y2:\n",
    "        ystep = 1\n",
    "    else:\n",
    "        ystep = -1\n",
    "    for x in range(x1, x2 + 1):\n",
    "        if issteep:\n",
    "            points.append((y, x))\n",
    "        else:\n",
    "            points.append((x, y))\n",
    "        error -= deltay\n",
    "        if error < 0:\n",
    "            y += ystep\n",
    "            error += deltax\n",
    "    # Reverse the list if the coordinates were reversed\n",
    "    if rev:\n",
    "        points.reverse()\n",
    "        \n",
    "    return points\n",
    "\n",
    "\n",
    "def make_plot(data, linecoords):\n",
    "    \"\"\"\n",
    "    data : 2D numpy-array\n",
    "    linecoords : x0,x1,y0,y1 --> arguments for get_line()\n",
    "    \"\"\"\n",
    "    \n",
    "    # flip data from row-colummn to x-y\n",
    "    d = np.flipud(data)\n",
    "    points = get_line(*linecoords)\n",
    "    \n",
    "    lx = []\n",
    "    ly = []\n",
    "    lv = []\n",
    "    for p in points:\n",
    "        lx.append(p[0])\n",
    "        ly.append(p[1])\n",
    "        lv.append(d[p[1],p[0]])\n",
    "\n",
    "    #--- setup plot, layout and colormap\n",
    "    plt.close(\"all\")\n",
    "    fig = plt.figure()\n",
    "\n",
    "    gs = gridspec.GridSpec(2, 2,\n",
    "                          width_ratios=[1,1])\n",
    "    ax1 = fig.add_subplot(gs[0:,0], projection=\"3d\")\n",
    "    ax2 = fig.add_subplot(gs[0,1])\n",
    "    ax3 = fig.add_subplot(gs[1,1])\n",
    "\n",
    "    cmap = cm.gist_earth\n",
    "\n",
    "    #--- 3D raw data \n",
    "    #------ generating x and y vectors from xlims/ylims\n",
    "    dx,dy = np.shape(data)\n",
    "    xvec, yvec = np.arange(0,dx), np.arange(0,dy)\n",
    "    x,y = np.meshgrid(xvec, yvec)\n",
    "    z = d\n",
    "    ax1.plot_surface(x,y,z, linewidth=0, cmap=cmap)\n",
    "    ax1.plot(lx,ly,lv, color=\"red\", alpha=0.7)\n",
    "\n",
    "    #--- 2D image\n",
    "    vmin, vmax = np.min(z), np.max(z)\n",
    "    im = ax2.imshow(z, origin=\"upper\", cmap=cmap, vmin=vmin, vmax=vmax)\n",
    "    ax2.plot(lx,ly,color=\"red\", alpha=0.7)\n",
    "    cbar = fig.colorbar(im, ax=ax2, label=zlabel)\n",
    "\n",
    "    #--- Linegraph\n",
    "    ax3.plot(lv, color=\"red\", alpha=1)\n",
    "    ax3.plot(lv, marker=\"x\", ls=\"\", color=\"red\", alpha=0.2)\n",
    "    \n",
    "    for ax in [ax1,ax2]:\n",
    "        ax.set_xlim(0,dx)\n",
    "        ax.set_ylim(0,dy)\n",
    "        ax.set_xlabel(xlabel)\n",
    "        ax.set_ylabel(ylabel)\n",
    "    ax1.set_zlabel(zlabel)\n",
    "    ax3.set_ylabel(zlabel)\n",
    "        \n",
    "    #--- finalize and show\n",
    "    fig.suptitle(\"height\")\n",
    "    fig.canvas.draw()"
   ]
  },
  {
   "cell_type": "markdown",
   "metadata": {},
   "source": [
    "# Setup plot\n",
    "\n",
    "- axis labels. (TODO: xlims, ylims)\n",
    "- As the header shows, the data is in m --> convert to nm\n",
    "    - You know your data (if not, see the header)\n"
   ]
  },
  {
   "cell_type": "code",
   "execution_count": 14,
   "metadata": {
    "collapsed": false
   },
   "outputs": [],
   "source": [
    "#--- convert to nanometer\n",
    "plotdata = data*1E9\n",
    "\n",
    "#--- these are used for plotting; defined as globals(not function arguments)\n",
    "xlabel = r\"data coord.\"\n",
    "ylabel = r\"data coord.\"\n",
    "zlabel = r\"$nm$\""
   ]
  },
  {
   "cell_type": "markdown",
   "metadata": {},
   "source": [
    "# Plot\n",
    "- Change intersection interactively; press button to refresh plot (set __manual=False to update in realtime)\n",
    "- Data is not interpolated. The line connects real data points."
   ]
  },
  {
   "cell_type": "code",
   "execution_count": 15,
   "metadata": {
    "collapsed": false,
    "scrolled": true
   },
   "outputs": [
    {
     "data": {
      "text/plain": [
       "<function __main__.<lambda>>"
      ]
     },
     "execution_count": 15,
     "metadata": {},
     "output_type": "execute_result"
    }
   ],
   "source": [
    "from ipywidgets import widgets, interact\n",
    "\n",
    "dx,dy = np.shape(data)\n",
    "\n",
    "#--- wrap plotting function to make plotdata-argument static\n",
    "make_plot_wrapped = lambda x0,x1,y0,y1: make_plot(plotdata,[x0,x1,y0,y1])\n",
    "\n",
    "interact(make_plot_wrapped, x0=[0,dx-1], x1=[0,dx-1], \n",
    "         y0=[0,dy-1], y1=[0,dy-1], __manual=True)"
   ]
  }
 ],
 "metadata": {
  "anaconda-cloud": {},
  "kernelspec": {
   "display_name": "Python 3",
   "language": "python",
   "name": "python3"
  },
  "language_info": {
   "codemirror_mode": {
    "name": "ipython",
    "version": 3
   },
   "file_extension": ".py",
   "mimetype": "text/x-python",
   "name": "python",
   "nbconvert_exporter": "python",
   "pygments_lexer": "ipython3",
   "version": "3.5.2"
  }
 },
 "nbformat": 4,
 "nbformat_minor": 2
}
